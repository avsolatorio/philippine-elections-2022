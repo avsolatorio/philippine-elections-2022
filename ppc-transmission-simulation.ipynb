{
 "cells": [
  {
   "cell_type": "code",
   "execution_count": 18,
   "metadata": {},
   "outputs": [],
   "source": [
    "import json\n",
    "from pathlib import Path\n",
    "\n",
    "import pandas as pd\n",
    "import numpy as np\n",
    "import requests\n",
    "\n",
    "from scraper.headers import HEADERS"
   ]
  },
  {
   "cell_type": "code",
   "execution_count": 269,
   "metadata": {},
   "outputs": [],
   "source": [
    "import matplotlib.pyplot as plt"
   ]
  },
  {
   "cell_type": "markdown",
   "metadata": {},
   "source": [
    "# Analysis overview\n",
    "\n",
    "The analysis will be done as a statistical simulation using the empirical election transmissions (ER) data received by the COMELEC's transparency servers.\n",
    "\n",
    "The primary question that we want to probe is whether the seemingly constant temporal disparity between Bongbong Marcos' vs. Leni Robredo's rate of votes is a statistical anomaly. Conclusion whether cheating at any level or of any form is not covered by this analysis.\n",
    "\n",
    "With the availability of the ER data that can be scraped from the transparency servers, we can perform statistical simulations on the actual vote counts data. The analysis will rely on some statistical assumptions:\n",
    "\n",
    "1. That success of the transmission of a single return is independent of other transmissions.\n",
    "2. The probability of success of transmission is uniform across precincts.\n",
    "    - We can check the distribution of the votes for each polling precinct to see how might we improve the assumption.\n",
    "    - This can be further refined and can be modeled using a more sophisticated distribution as we build better understanding of other underlying factors that affect the transmission.\n",
    "\n",
    "The two assumptions will be embedded in the simulation as a Geometric distribution modeling the transmission time of each precinct after the closing of the polls.\n",
    "\n",
    "We shall build an ensemble of simulations and calculate the expected rate of votes difference between the two candidates. Using the data of the simulation, we can then compare the empirical values of the rate of votes and see if this lies within the statistical confidence interval of the modeled process."
   ]
  },
  {
   "cell_type": "code",
   "execution_count": 4,
   "metadata": {},
   "outputs": [],
   "source": [
    "RESULTS_DIR = Path(\"__file__\").parent / \"data\" / \"results\"\n",
    "assert RESULTS_DIR.exists()"
   ]
  },
  {
   "cell_type": "code",
   "execution_count": 138,
   "metadata": {},
   "outputs": [],
   "source": [
    "pres_json_fname = Path(\"__file__\").parent / \"data\" / \"pres_json.json\"\n",
    "\n",
    "if pres_json_fname.exists():\n",
    "    pres_json = json.loads(pres_json_fname.read_text())\n",
    "else:\n",
    "    response = requests.get(\"https://2022electionresults.comelec.gov.ph/data/contests/5587.json\", headers=HEADERS)\n",
    "    pres_json = response.json()\n",
    "    pres_json_fname.write_text(json.dumps(pres_json))\n",
    "\n",
    "data_map_president = pd.DataFrame(pres_json[\"bos\"])"
   ]
  },
  {
   "cell_type": "code",
   "execution_count": 139,
   "metadata": {},
   "outputs": [
    {
     "data": {
      "text/html": [
       "<div>\n",
       "<style scoped>\n",
       "    .dataframe tbody tr th:only-of-type {\n",
       "        vertical-align: middle;\n",
       "    }\n",
       "\n",
       "    .dataframe tbody tr th {\n",
       "        vertical-align: top;\n",
       "    }\n",
       "\n",
       "    .dataframe thead th {\n",
       "        text-align: right;\n",
       "    }\n",
       "</style>\n",
       "<table border=\"1\" class=\"dataframe\">\n",
       "  <thead>\n",
       "    <tr style=\"text-align: right;\">\n",
       "      <th></th>\n",
       "      <th>boc</th>\n",
       "      <th>bon</th>\n",
       "      <th>boi</th>\n",
       "      <th>to</th>\n",
       "      <th>pc</th>\n",
       "      <th>pn</th>\n",
       "      <th>pcc</th>\n",
       "      <th>pcy</th>\n",
       "      <th>pcm</th>\n",
       "      <th>pck</th>\n",
       "      <th>bo</th>\n",
       "    </tr>\n",
       "  </thead>\n",
       "  <tbody>\n",
       "    <tr>\n",
       "      <th>0</th>\n",
       "      <td>46446</td>\n",
       "      <td>PACQUIAO, MANNY PACMAN(PROMDI)</td>\n",
       "      <td>46438.png</td>\n",
       "      <td>9</td>\n",
       "      <td>279</td>\n",
       "      <td>ABAG PROMDI</td>\n",
       "      <td>1</td>\n",
       "      <td>1</td>\n",
       "      <td>1</td>\n",
       "      <td>1</td>\n",
       "      <td>46446</td>\n",
       "    </tr>\n",
       "    <tr>\n",
       "      <th>1</th>\n",
       "      <td>46440</td>\n",
       "      <td>DOMAGOSO, ISKO MORENO (AKSYON)</td>\n",
       "      <td>46441.png</td>\n",
       "      <td>3</td>\n",
       "      <td>281</td>\n",
       "      <td>AKSYON DEMOKRATIKO</td>\n",
       "      <td>1</td>\n",
       "      <td>1</td>\n",
       "      <td>1</td>\n",
       "      <td>1</td>\n",
       "      <td>46440</td>\n",
       "    </tr>\n",
       "    <tr>\n",
       "      <th>2</th>\n",
       "      <td>46445</td>\n",
       "      <td>MONTEMAYOR, JOSE JR. (DPP)</td>\n",
       "      <td>46439.png</td>\n",
       "      <td>8</td>\n",
       "      <td>288</td>\n",
       "      <td>DEMOCRATIC PARTY OF THE PHILIPPINES</td>\n",
       "      <td>1</td>\n",
       "      <td>1</td>\n",
       "      <td>1</td>\n",
       "      <td>1</td>\n",
       "      <td>46445</td>\n",
       "    </tr>\n",
       "    <tr>\n",
       "      <th>3</th>\n",
       "      <td>46443</td>\n",
       "      <td>MANGONDATO, FAISAL (KTPNAN)</td>\n",
       "      <td>46440.png</td>\n",
       "      <td>6</td>\n",
       "      <td>290</td>\n",
       "      <td>KATIPUNAN NG KAMALAYANG  KAYUMANGGI</td>\n",
       "      <td>1</td>\n",
       "      <td>1</td>\n",
       "      <td>1</td>\n",
       "      <td>1</td>\n",
       "      <td>46443</td>\n",
       "    </tr>\n",
       "    <tr>\n",
       "      <th>4</th>\n",
       "      <td>46441</td>\n",
       "      <td>GONZALES, NORBERTO (PDSP)</td>\n",
       "      <td>46444.png</td>\n",
       "      <td>4</td>\n",
       "      <td>299</td>\n",
       "      <td>PARTIDO DEMOKRATIKO SOSYALISTA NG PILIPINAS</td>\n",
       "      <td>1</td>\n",
       "      <td>1</td>\n",
       "      <td>1</td>\n",
       "      <td>1</td>\n",
       "      <td>46441</td>\n",
       "    </tr>\n",
       "    <tr>\n",
       "      <th>5</th>\n",
       "      <td>46439</td>\n",
       "      <td>DE GUZMAN, LEODY (PLM)</td>\n",
       "      <td>46445.png</td>\n",
       "      <td>2</td>\n",
       "      <td>300</td>\n",
       "      <td>PARTIDO LAKAS NG MASA</td>\n",
       "      <td>1</td>\n",
       "      <td>1</td>\n",
       "      <td>1</td>\n",
       "      <td>1</td>\n",
       "      <td>46439</td>\n",
       "    </tr>\n",
       "    <tr>\n",
       "      <th>6</th>\n",
       "      <td>46442</td>\n",
       "      <td>LACSON, PING (PDR)</td>\n",
       "      <td>46443.png</td>\n",
       "      <td>5</td>\n",
       "      <td>301</td>\n",
       "      <td>PARTIDO PARA SA DEMOKRATIKONG  REPORMA</td>\n",
       "      <td>1</td>\n",
       "      <td>1</td>\n",
       "      <td>1</td>\n",
       "      <td>1</td>\n",
       "      <td>46442</td>\n",
       "    </tr>\n",
       "    <tr>\n",
       "      <th>7</th>\n",
       "      <td>46438</td>\n",
       "      <td>ABELLA, ERNIE (IND)</td>\n",
       "      <td>46447.png</td>\n",
       "      <td>1</td>\n",
       "      <td>343</td>\n",
       "      <td>INDEPENDENT</td>\n",
       "      <td>1</td>\n",
       "      <td>1</td>\n",
       "      <td>1</td>\n",
       "      <td>1</td>\n",
       "      <td>46438</td>\n",
       "    </tr>\n",
       "    <tr>\n",
       "      <th>8</th>\n",
       "      <td>46447</td>\n",
       "      <td>ROBREDO, LENI (IND)</td>\n",
       "      <td>46446.png</td>\n",
       "      <td>10</td>\n",
       "      <td>343</td>\n",
       "      <td>INDEPENDENT</td>\n",
       "      <td>1</td>\n",
       "      <td>1</td>\n",
       "      <td>1</td>\n",
       "      <td>1</td>\n",
       "      <td>46447</td>\n",
       "    </tr>\n",
       "    <tr>\n",
       "      <th>9</th>\n",
       "      <td>46444</td>\n",
       "      <td>MARCOS, BONGBONG (PFP)</td>\n",
       "      <td>46442.png</td>\n",
       "      <td>7</td>\n",
       "      <td>345</td>\n",
       "      <td>PARTIDO FEDERAL NG PILIPINAS</td>\n",
       "      <td>1</td>\n",
       "      <td>1</td>\n",
       "      <td>1</td>\n",
       "      <td>1</td>\n",
       "      <td>46444</td>\n",
       "    </tr>\n",
       "  </tbody>\n",
       "</table>\n",
       "</div>"
      ],
      "text/plain": [
       "     boc                             bon        boi  to   pc  \\\n",
       "0  46446  PACQUIAO, MANNY PACMAN(PROMDI)  46438.png   9  279   \n",
       "1  46440  DOMAGOSO, ISKO MORENO (AKSYON)  46441.png   3  281   \n",
       "2  46445      MONTEMAYOR, JOSE JR. (DPP)  46439.png   8  288   \n",
       "3  46443     MANGONDATO, FAISAL (KTPNAN)  46440.png   6  290   \n",
       "4  46441       GONZALES, NORBERTO (PDSP)  46444.png   4  299   \n",
       "5  46439          DE GUZMAN, LEODY (PLM)  46445.png   2  300   \n",
       "6  46442              LACSON, PING (PDR)  46443.png   5  301   \n",
       "7  46438             ABELLA, ERNIE (IND)  46447.png   1  343   \n",
       "8  46447             ROBREDO, LENI (IND)  46446.png  10  343   \n",
       "9  46444          MARCOS, BONGBONG (PFP)  46442.png   7  345   \n",
       "\n",
       "                                            pn  pcc  pcy  pcm  pck     bo  \n",
       "0                                  ABAG PROMDI    1    1    1    1  46446  \n",
       "1                           AKSYON DEMOKRATIKO    1    1    1    1  46440  \n",
       "2          DEMOCRATIC PARTY OF THE PHILIPPINES    1    1    1    1  46445  \n",
       "3          KATIPUNAN NG KAMALAYANG  KAYUMANGGI    1    1    1    1  46443  \n",
       "4  PARTIDO DEMOKRATIKO SOSYALISTA NG PILIPINAS    1    1    1    1  46441  \n",
       "5                        PARTIDO LAKAS NG MASA    1    1    1    1  46439  \n",
       "6       PARTIDO PARA SA DEMOKRATIKONG  REPORMA    1    1    1    1  46442  \n",
       "7                                  INDEPENDENT    1    1    1    1  46438  \n",
       "8                                  INDEPENDENT    1    1    1    1  46447  \n",
       "9                 PARTIDO FEDERAL NG PILIPINAS    1    1    1    1  46444  "
      ]
     },
     "execution_count": 139,
     "metadata": {},
     "output_type": "execute_result"
    }
   ],
   "source": [
    "data_map_president[\"bo\"] = data_map_president[\"boc\"]\n",
    "data_map_president"
   ]
  },
  {
   "cell_type": "code",
   "execution_count": 249,
   "metadata": {},
   "outputs": [
    {
     "data": {
      "text/plain": [
       "48966"
      ]
     },
     "execution_count": 249,
     "metadata": {},
     "output_type": "execute_result"
    }
   ],
   "source": [
    "results_files = list(RESULTS_DIR.glob(\"*/*.json\"))\n",
    "len(results_files)"
   ]
  },
  {
   "cell_type": "code",
   "execution_count": 250,
   "metadata": {},
   "outputs": [
    {
     "name": "stdout",
     "output_type": "stream",
     "text": [
      "count    48966.000000\n",
      "mean         8.367949\n",
      "std          7.862886\n",
      "min          1.000000\n",
      "25%          3.000000\n",
      "50%          6.000000\n",
      "75%         11.000000\n",
      "max         87.000000\n",
      "dtype: float64\n"
     ]
    }
   ],
   "source": [
    "p = 0.12\n",
    "rvs = np.random.geometric(p, size=len(results_files))\n",
    "print(pd.Series(rvs).describe())\n",
    "\n",
    "fields = [\"bo\", \"v\", \"tot\", \"per\", \"ser\", \"bon\", \"pc\", \"pn\"]\n",
    "\n",
    "batch = {rv: [] for rv in rvs}\n",
    "\n",
    "for rv, rf in zip(rvs, results_files):\n",
    "    d = json.loads(rf.read_text())\n",
    "    d = pd.DataFrame(d[\"rs\"])\n",
    "    pres = d[d[\"cc\"] == 5587]\n",
    "    pres = pres.merge(data_map_president, on=\"bo\", how=\"left\")\n",
    "\n",
    "    batch[rv].append(pres[fields])"
   ]
  },
  {
   "cell_type": "code",
   "execution_count": 251,
   "metadata": {},
   "outputs": [
    {
     "data": {
      "text/html": [
       "<div>\n",
       "<style scoped>\n",
       "    .dataframe tbody tr th:only-of-type {\n",
       "        vertical-align: middle;\n",
       "    }\n",
       "\n",
       "    .dataframe tbody tr th {\n",
       "        vertical-align: top;\n",
       "    }\n",
       "\n",
       "    .dataframe thead th {\n",
       "        text-align: right;\n",
       "    }\n",
       "</style>\n",
       "<table border=\"1\" class=\"dataframe\">\n",
       "  <thead>\n",
       "    <tr style=\"text-align: right;\">\n",
       "      <th></th>\n",
       "      <th></th>\n",
       "      <th>total</th>\n",
       "      <th>ABELLA, ERNIE (IND)</th>\n",
       "      <th>DE GUZMAN, LEODY (PLM)</th>\n",
       "      <th>DOMAGOSO, ISKO MORENO (AKSYON)</th>\n",
       "      <th>GONZALES, NORBERTO (PDSP)</th>\n",
       "      <th>LACSON, PING (PDR)</th>\n",
       "      <th>MANGONDATO, FAISAL (KTPNAN)</th>\n",
       "      <th>MARCOS, BONGBONG (PFP)</th>\n",
       "      <th>MONTEMAYOR, JOSE JR. (DPP)</th>\n",
       "      <th>PACQUIAO, MANNY PACMAN(PROMDI)</th>\n",
       "      <th>ROBREDO, LENI (IND)</th>\n",
       "    </tr>\n",
       "    <tr>\n",
       "      <th>hour</th>\n",
       "      <th>count</th>\n",
       "      <th></th>\n",
       "      <th></th>\n",
       "      <th></th>\n",
       "      <th></th>\n",
       "      <th></th>\n",
       "      <th></th>\n",
       "      <th></th>\n",
       "      <th></th>\n",
       "      <th></th>\n",
       "      <th></th>\n",
       "      <th></th>\n",
       "    </tr>\n",
       "  </thead>\n",
       "  <tbody>\n",
       "    <tr>\n",
       "      <th>1</th>\n",
       "      <th>5957</th>\n",
       "      <td>2953078</td>\n",
       "      <td>7408</td>\n",
       "      <td>5458</td>\n",
       "      <td>81237</td>\n",
       "      <td>5440</td>\n",
       "      <td>40832</td>\n",
       "      <td>2863</td>\n",
       "      <td>1646073</td>\n",
       "      <td>3402</td>\n",
       "      <td>187593</td>\n",
       "      <td>972772</td>\n",
       "    </tr>\n",
       "    <tr>\n",
       "      <th>2</th>\n",
       "      <th>5072</th>\n",
       "      <td>2505153</td>\n",
       "      <td>6436</td>\n",
       "      <td>4692</td>\n",
       "      <td>67675</td>\n",
       "      <td>4495</td>\n",
       "      <td>33970</td>\n",
       "      <td>2381</td>\n",
       "      <td>1404668</td>\n",
       "      <td>2939</td>\n",
       "      <td>165206</td>\n",
       "      <td>812691</td>\n",
       "    </tr>\n",
       "    <tr>\n",
       "      <th>3</th>\n",
       "      <th>4580</th>\n",
       "      <td>2269366</td>\n",
       "      <td>5729</td>\n",
       "      <td>4233</td>\n",
       "      <td>60480</td>\n",
       "      <td>4103</td>\n",
       "      <td>30947</td>\n",
       "      <td>2214</td>\n",
       "      <td>1267610</td>\n",
       "      <td>2600</td>\n",
       "      <td>145463</td>\n",
       "      <td>745987</td>\n",
       "    </tr>\n",
       "    <tr>\n",
       "      <th>4</th>\n",
       "      <th>3969</th>\n",
       "      <td>1974616</td>\n",
       "      <td>4950</td>\n",
       "      <td>3664</td>\n",
       "      <td>52388</td>\n",
       "      <td>3466</td>\n",
       "      <td>26961</td>\n",
       "      <td>1692</td>\n",
       "      <td>1111869</td>\n",
       "      <td>2355</td>\n",
       "      <td>123820</td>\n",
       "      <td>643451</td>\n",
       "    </tr>\n",
       "    <tr>\n",
       "      <th>5</th>\n",
       "      <th>3544</th>\n",
       "      <td>1747284</td>\n",
       "      <td>4436</td>\n",
       "      <td>3211</td>\n",
       "      <td>46288</td>\n",
       "      <td>3283</td>\n",
       "      <td>23642</td>\n",
       "      <td>1453</td>\n",
       "      <td>993374</td>\n",
       "      <td>2014</td>\n",
       "      <td>110181</td>\n",
       "      <td>559402</td>\n",
       "    </tr>\n",
       "    <tr>\n",
       "      <th>...</th>\n",
       "      <th>...</th>\n",
       "      <td>...</td>\n",
       "      <td>...</td>\n",
       "      <td>...</td>\n",
       "      <td>...</td>\n",
       "      <td>...</td>\n",
       "      <td>...</td>\n",
       "      <td>...</td>\n",
       "      <td>...</td>\n",
       "      <td>...</td>\n",
       "      <td>...</td>\n",
       "      <td>...</td>\n",
       "    </tr>\n",
       "    <tr>\n",
       "      <th>74</th>\n",
       "      <th>1</th>\n",
       "      <td>373</td>\n",
       "      <td>0</td>\n",
       "      <td>1</td>\n",
       "      <td>7</td>\n",
       "      <td>1</td>\n",
       "      <td>5</td>\n",
       "      <td>0</td>\n",
       "      <td>310</td>\n",
       "      <td>0</td>\n",
       "      <td>6</td>\n",
       "      <td>43</td>\n",
       "    </tr>\n",
       "    <tr>\n",
       "      <th>81</th>\n",
       "      <th>1</th>\n",
       "      <td>707</td>\n",
       "      <td>1</td>\n",
       "      <td>1</td>\n",
       "      <td>51</td>\n",
       "      <td>2</td>\n",
       "      <td>8</td>\n",
       "      <td>1</td>\n",
       "      <td>466</td>\n",
       "      <td>0</td>\n",
       "      <td>30</td>\n",
       "      <td>147</td>\n",
       "    </tr>\n",
       "    <tr>\n",
       "      <th>83</th>\n",
       "      <th>1</th>\n",
       "      <td>380</td>\n",
       "      <td>1</td>\n",
       "      <td>1</td>\n",
       "      <td>7</td>\n",
       "      <td>1</td>\n",
       "      <td>13</td>\n",
       "      <td>0</td>\n",
       "      <td>294</td>\n",
       "      <td>0</td>\n",
       "      <td>4</td>\n",
       "      <td>59</td>\n",
       "    </tr>\n",
       "    <tr>\n",
       "      <th>84</th>\n",
       "      <th>1</th>\n",
       "      <td>448</td>\n",
       "      <td>2</td>\n",
       "      <td>0</td>\n",
       "      <td>8</td>\n",
       "      <td>1</td>\n",
       "      <td>10</td>\n",
       "      <td>0</td>\n",
       "      <td>230</td>\n",
       "      <td>0</td>\n",
       "      <td>22</td>\n",
       "      <td>175</td>\n",
       "    </tr>\n",
       "    <tr>\n",
       "      <th>87</th>\n",
       "      <th>1</th>\n",
       "      <td>601</td>\n",
       "      <td>0</td>\n",
       "      <td>0</td>\n",
       "      <td>9</td>\n",
       "      <td>3</td>\n",
       "      <td>9</td>\n",
       "      <td>0</td>\n",
       "      <td>408</td>\n",
       "      <td>7</td>\n",
       "      <td>67</td>\n",
       "      <td>98</td>\n",
       "    </tr>\n",
       "  </tbody>\n",
       "</table>\n",
       "<p>75 rows × 11 columns</p>\n",
       "</div>"
      ],
      "text/plain": [
       "              total  ABELLA, ERNIE (IND)  DE GUZMAN, LEODY (PLM)  \\\n",
       "hour count                                                         \n",
       "1    5957   2953078                 7408                    5458   \n",
       "2    5072   2505153                 6436                    4692   \n",
       "3    4580   2269366                 5729                    4233   \n",
       "4    3969   1974616                 4950                    3664   \n",
       "5    3544   1747284                 4436                    3211   \n",
       "...             ...                  ...                     ...   \n",
       "74   1          373                    0                       1   \n",
       "81   1          707                    1                       1   \n",
       "83   1          380                    1                       1   \n",
       "84   1          448                    2                       0   \n",
       "87   1          601                    0                       0   \n",
       "\n",
       "            DOMAGOSO, ISKO MORENO (AKSYON)  GONZALES, NORBERTO (PDSP)  \\\n",
       "hour count                                                              \n",
       "1    5957                            81237                       5440   \n",
       "2    5072                            67675                       4495   \n",
       "3    4580                            60480                       4103   \n",
       "4    3969                            52388                       3466   \n",
       "5    3544                            46288                       3283   \n",
       "...                                    ...                        ...   \n",
       "74   1                                   7                          1   \n",
       "81   1                                  51                          2   \n",
       "83   1                                   7                          1   \n",
       "84   1                                   8                          1   \n",
       "87   1                                   9                          3   \n",
       "\n",
       "            LACSON, PING (PDR)  MANGONDATO, FAISAL (KTPNAN)  \\\n",
       "hour count                                                    \n",
       "1    5957                40832                         2863   \n",
       "2    5072                33970                         2381   \n",
       "3    4580                30947                         2214   \n",
       "4    3969                26961                         1692   \n",
       "5    3544                23642                         1453   \n",
       "...                        ...                          ...   \n",
       "74   1                       5                            0   \n",
       "81   1                       8                            1   \n",
       "83   1                      13                            0   \n",
       "84   1                      10                            0   \n",
       "87   1                       9                            0   \n",
       "\n",
       "            MARCOS, BONGBONG (PFP)  MONTEMAYOR, JOSE JR. (DPP)  \\\n",
       "hour count                                                       \n",
       "1    5957                  1646073                        3402   \n",
       "2    5072                  1404668                        2939   \n",
       "3    4580                  1267610                        2600   \n",
       "4    3969                  1111869                        2355   \n",
       "5    3544                   993374                        2014   \n",
       "...                            ...                         ...   \n",
       "74   1                         310                           0   \n",
       "81   1                         466                           0   \n",
       "83   1                         294                           0   \n",
       "84   1                         230                           0   \n",
       "87   1                         408                           7   \n",
       "\n",
       "            PACQUIAO, MANNY PACMAN(PROMDI)  ROBREDO, LENI (IND)  \n",
       "hour count                                                       \n",
       "1    5957                           187593               972772  \n",
       "2    5072                           165206               812691  \n",
       "3    4580                           145463               745987  \n",
       "4    3969                           123820               643451  \n",
       "5    3544                           110181               559402  \n",
       "...                                    ...                  ...  \n",
       "74   1                                   6                   43  \n",
       "81   1                                  30                  147  \n",
       "83   1                                   4                   59  \n",
       "84   1                                  22                  175  \n",
       "87   1                                  67                   98  \n",
       "\n",
       "[75 rows x 11 columns]"
      ]
     },
     "execution_count": 251,
     "metadata": {},
     "output_type": "execute_result"
    }
   ],
   "source": [
    "rv_data = []\n",
    "\n",
    "for rv in sorted(batch.keys()):\n",
    "    b = pd.concat(batch[rv])\n",
    "    b = b.groupby(\"bon\")[\"v\"].sum()\n",
    "\n",
    "    db = dict(\n",
    "        count=len(batch[rv]),\n",
    "        hour=rv,\n",
    "        total=b.sum()\n",
    "    )\n",
    "    db.update(b.to_dict())\n",
    "    rv_data.append(db)\n",
    "\n",
    "rv_data = pd.DataFrame(rv_data).set_index([\"hour\", \"count\"])\n",
    "rv_data"
   ]
  },
  {
   "cell_type": "code",
   "execution_count": 252,
   "metadata": {},
   "outputs": [
    {
     "data": {
      "text/html": [
       "<div>\n",
       "<style scoped>\n",
       "    .dataframe tbody tr th:only-of-type {\n",
       "        vertical-align: middle;\n",
       "    }\n",
       "\n",
       "    .dataframe tbody tr th {\n",
       "        vertical-align: top;\n",
       "    }\n",
       "\n",
       "    .dataframe thead th {\n",
       "        text-align: right;\n",
       "    }\n",
       "</style>\n",
       "<table border=\"1\" class=\"dataframe\">\n",
       "  <thead>\n",
       "    <tr style=\"text-align: right;\">\n",
       "      <th></th>\n",
       "      <th></th>\n",
       "      <th>MARCOS, BONGBONG (PFP)</th>\n",
       "      <th>ROBREDO, LENI (IND)</th>\n",
       "    </tr>\n",
       "    <tr>\n",
       "      <th>hour</th>\n",
       "      <th>count</th>\n",
       "      <th></th>\n",
       "      <th></th>\n",
       "    </tr>\n",
       "  </thead>\n",
       "  <tbody>\n",
       "    <tr>\n",
       "      <th>1</th>\n",
       "      <th>5957</th>\n",
       "      <td>1646073</td>\n",
       "      <td>972772</td>\n",
       "    </tr>\n",
       "    <tr>\n",
       "      <th>2</th>\n",
       "      <th>5072</th>\n",
       "      <td>1404668</td>\n",
       "      <td>812691</td>\n",
       "    </tr>\n",
       "    <tr>\n",
       "      <th>3</th>\n",
       "      <th>4580</th>\n",
       "      <td>1267610</td>\n",
       "      <td>745987</td>\n",
       "    </tr>\n",
       "    <tr>\n",
       "      <th>4</th>\n",
       "      <th>3969</th>\n",
       "      <td>1111869</td>\n",
       "      <td>643451</td>\n",
       "    </tr>\n",
       "    <tr>\n",
       "      <th>5</th>\n",
       "      <th>3544</th>\n",
       "      <td>993374</td>\n",
       "      <td>559402</td>\n",
       "    </tr>\n",
       "    <tr>\n",
       "      <th>...</th>\n",
       "      <th>...</th>\n",
       "      <td>...</td>\n",
       "      <td>...</td>\n",
       "    </tr>\n",
       "    <tr>\n",
       "      <th>74</th>\n",
       "      <th>1</th>\n",
       "      <td>310</td>\n",
       "      <td>43</td>\n",
       "    </tr>\n",
       "    <tr>\n",
       "      <th>81</th>\n",
       "      <th>1</th>\n",
       "      <td>466</td>\n",
       "      <td>147</td>\n",
       "    </tr>\n",
       "    <tr>\n",
       "      <th>83</th>\n",
       "      <th>1</th>\n",
       "      <td>294</td>\n",
       "      <td>59</td>\n",
       "    </tr>\n",
       "    <tr>\n",
       "      <th>84</th>\n",
       "      <th>1</th>\n",
       "      <td>230</td>\n",
       "      <td>175</td>\n",
       "    </tr>\n",
       "    <tr>\n",
       "      <th>87</th>\n",
       "      <th>1</th>\n",
       "      <td>408</td>\n",
       "      <td>98</td>\n",
       "    </tr>\n",
       "  </tbody>\n",
       "</table>\n",
       "<p>75 rows × 2 columns</p>\n",
       "</div>"
      ],
      "text/plain": [
       "            MARCOS, BONGBONG (PFP)  ROBREDO, LENI (IND)\n",
       "hour count                                             \n",
       "1    5957                  1646073               972772\n",
       "2    5072                  1404668               812691\n",
       "3    4580                  1267610               745987\n",
       "4    3969                  1111869               643451\n",
       "5    3544                   993374               559402\n",
       "...                            ...                  ...\n",
       "74   1                         310                   43\n",
       "81   1                         466                  147\n",
       "83   1                         294                   59\n",
       "84   1                         230                  175\n",
       "87   1                         408                   98\n",
       "\n",
       "[75 rows x 2 columns]"
      ]
     },
     "execution_count": 252,
     "metadata": {},
     "output_type": "execute_result"
    }
   ],
   "source": [
    "sub_data = rv_data[[\"MARCOS, BONGBONG (PFP)\", \"ROBREDO, LENI (IND)\"]].copy()\n",
    "sub_data"
   ]
  },
  {
   "cell_type": "code",
   "execution_count": 253,
   "metadata": {},
   "outputs": [
    {
     "data": {
      "text/html": [
       "<div>\n",
       "<style scoped>\n",
       "    .dataframe tbody tr th:only-of-type {\n",
       "        vertical-align: middle;\n",
       "    }\n",
       "\n",
       "    .dataframe tbody tr th {\n",
       "        vertical-align: top;\n",
       "    }\n",
       "\n",
       "    .dataframe thead th {\n",
       "        text-align: right;\n",
       "    }\n",
       "</style>\n",
       "<table border=\"1\" class=\"dataframe\">\n",
       "  <thead>\n",
       "    <tr style=\"text-align: right;\">\n",
       "      <th></th>\n",
       "      <th></th>\n",
       "      <th>MARCOS, BONGBONG (PFP)</th>\n",
       "      <th>ROBREDO, LENI (IND)</th>\n",
       "    </tr>\n",
       "    <tr>\n",
       "      <th>hour</th>\n",
       "      <th>count</th>\n",
       "      <th></th>\n",
       "      <th></th>\n",
       "    </tr>\n",
       "  </thead>\n",
       "  <tbody>\n",
       "    <tr>\n",
       "      <th>1</th>\n",
       "      <th>5957</th>\n",
       "      <td>0.628549</td>\n",
       "      <td>0.371451</td>\n",
       "    </tr>\n",
       "    <tr>\n",
       "      <th>2</th>\n",
       "      <th>5072</th>\n",
       "      <td>0.633487</td>\n",
       "      <td>0.366513</td>\n",
       "    </tr>\n",
       "    <tr>\n",
       "      <th>3</th>\n",
       "      <th>4580</th>\n",
       "      <td>0.629525</td>\n",
       "      <td>0.370475</td>\n",
       "    </tr>\n",
       "    <tr>\n",
       "      <th>4</th>\n",
       "      <th>3969</th>\n",
       "      <td>0.633428</td>\n",
       "      <td>0.366572</td>\n",
       "    </tr>\n",
       "    <tr>\n",
       "      <th>5</th>\n",
       "      <th>3544</th>\n",
       "      <td>0.639741</td>\n",
       "      <td>0.360259</td>\n",
       "    </tr>\n",
       "    <tr>\n",
       "      <th>...</th>\n",
       "      <th>...</th>\n",
       "      <td>...</td>\n",
       "      <td>...</td>\n",
       "    </tr>\n",
       "    <tr>\n",
       "      <th>74</th>\n",
       "      <th>1</th>\n",
       "      <td>0.878187</td>\n",
       "      <td>0.121813</td>\n",
       "    </tr>\n",
       "    <tr>\n",
       "      <th>81</th>\n",
       "      <th>1</th>\n",
       "      <td>0.760196</td>\n",
       "      <td>0.239804</td>\n",
       "    </tr>\n",
       "    <tr>\n",
       "      <th>83</th>\n",
       "      <th>1</th>\n",
       "      <td>0.832861</td>\n",
       "      <td>0.167139</td>\n",
       "    </tr>\n",
       "    <tr>\n",
       "      <th>84</th>\n",
       "      <th>1</th>\n",
       "      <td>0.567901</td>\n",
       "      <td>0.432099</td>\n",
       "    </tr>\n",
       "    <tr>\n",
       "      <th>87</th>\n",
       "      <th>1</th>\n",
       "      <td>0.806324</td>\n",
       "      <td>0.193676</td>\n",
       "    </tr>\n",
       "  </tbody>\n",
       "</table>\n",
       "<p>75 rows × 2 columns</p>\n",
       "</div>"
      ],
      "text/plain": [
       "            MARCOS, BONGBONG (PFP)  ROBREDO, LENI (IND)\n",
       "hour count                                             \n",
       "1    5957                 0.628549             0.371451\n",
       "2    5072                 0.633487             0.366513\n",
       "3    4580                 0.629525             0.370475\n",
       "4    3969                 0.633428             0.366572\n",
       "5    3544                 0.639741             0.360259\n",
       "...                            ...                  ...\n",
       "74   1                    0.878187             0.121813\n",
       "81   1                    0.760196             0.239804\n",
       "83   1                    0.832861             0.167139\n",
       "84   1                    0.567901             0.432099\n",
       "87   1                    0.806324             0.193676\n",
       "\n",
       "[75 rows x 2 columns]"
      ]
     },
     "execution_count": 253,
     "metadata": {},
     "output_type": "execute_result"
    }
   ],
   "source": [
    "sub_data.divide(sub_data.sum(axis=1), axis=0)"
   ]
  },
  {
   "cell_type": "code",
   "execution_count": 254,
   "metadata": {},
   "outputs": [
    {
     "data": {
      "text/html": [
       "<div>\n",
       "<style scoped>\n",
       "    .dataframe tbody tr th:only-of-type {\n",
       "        vertical-align: middle;\n",
       "    }\n",
       "\n",
       "    .dataframe tbody tr th {\n",
       "        vertical-align: top;\n",
       "    }\n",
       "\n",
       "    .dataframe thead th {\n",
       "        text-align: right;\n",
       "    }\n",
       "</style>\n",
       "<table border=\"1\" class=\"dataframe\">\n",
       "  <thead>\n",
       "    <tr style=\"text-align: right;\">\n",
       "      <th></th>\n",
       "      <th></th>\n",
       "      <th>MARCOS, BONGBONG (PFP)</th>\n",
       "      <th>ROBREDO, LENI (IND)</th>\n",
       "    </tr>\n",
       "    <tr>\n",
       "      <th>hour</th>\n",
       "      <th>count</th>\n",
       "      <th></th>\n",
       "      <th></th>\n",
       "    </tr>\n",
       "  </thead>\n",
       "  <tbody>\n",
       "    <tr>\n",
       "      <th>1</th>\n",
       "      <th>5957</th>\n",
       "      <td>0.628549</td>\n",
       "      <td>0.371451</td>\n",
       "    </tr>\n",
       "    <tr>\n",
       "      <th>2</th>\n",
       "      <th>5072</th>\n",
       "      <td>0.630813</td>\n",
       "      <td>0.369187</td>\n",
       "    </tr>\n",
       "    <tr>\n",
       "      <th>3</th>\n",
       "      <th>4580</th>\n",
       "      <td>0.630435</td>\n",
       "      <td>0.369565</td>\n",
       "    </tr>\n",
       "    <tr>\n",
       "      <th>4</th>\n",
       "      <th>3969</th>\n",
       "      <td>0.631045</td>\n",
       "      <td>0.368955</td>\n",
       "    </tr>\n",
       "    <tr>\n",
       "      <th>5</th>\n",
       "      <th>3544</th>\n",
       "      <td>0.632374</td>\n",
       "      <td>0.367626</td>\n",
       "    </tr>\n",
       "    <tr>\n",
       "      <th>...</th>\n",
       "      <th>...</th>\n",
       "      <td>...</td>\n",
       "      <td>...</td>\n",
       "    </tr>\n",
       "    <tr>\n",
       "      <th>74</th>\n",
       "      <th>1</th>\n",
       "      <td>0.634149</td>\n",
       "      <td>0.365851</td>\n",
       "    </tr>\n",
       "    <tr>\n",
       "      <th>81</th>\n",
       "      <th>1</th>\n",
       "      <td>0.634153</td>\n",
       "      <td>0.365847</td>\n",
       "    </tr>\n",
       "    <tr>\n",
       "      <th>83</th>\n",
       "      <th>1</th>\n",
       "      <td>0.634156</td>\n",
       "      <td>0.365844</td>\n",
       "    </tr>\n",
       "    <tr>\n",
       "      <th>84</th>\n",
       "      <th>1</th>\n",
       "      <td>0.634155</td>\n",
       "      <td>0.365845</td>\n",
       "    </tr>\n",
       "    <tr>\n",
       "      <th>87</th>\n",
       "      <th>1</th>\n",
       "      <td>0.634159</td>\n",
       "      <td>0.365841</td>\n",
       "    </tr>\n",
       "  </tbody>\n",
       "</table>\n",
       "<p>75 rows × 2 columns</p>\n",
       "</div>"
      ],
      "text/plain": [
       "            MARCOS, BONGBONG (PFP)  ROBREDO, LENI (IND)\n",
       "hour count                                             \n",
       "1    5957                 0.628549             0.371451\n",
       "2    5072                 0.630813             0.369187\n",
       "3    4580                 0.630435             0.369565\n",
       "4    3969                 0.631045             0.368955\n",
       "5    3544                 0.632374             0.367626\n",
       "...                            ...                  ...\n",
       "74   1                    0.634149             0.365851\n",
       "81   1                    0.634153             0.365847\n",
       "83   1                    0.634156             0.365844\n",
       "84   1                    0.634155             0.365845\n",
       "87   1                    0.634159             0.365841\n",
       "\n",
       "[75 rows x 2 columns]"
      ]
     },
     "execution_count": 254,
     "metadata": {},
     "output_type": "execute_result"
    }
   ],
   "source": [
    "sub_data.cumsum().divide(sub_data.cumsum().sum(axis=1), axis=0)"
   ]
  },
  {
   "cell_type": "code",
   "execution_count": 271,
   "metadata": {},
   "outputs": [
    {
     "data": {
      "text/plain": [
       "Text(0.5, 1.0, 'Share of votes (cumulative)')"
      ]
     },
     "execution_count": 271,
     "metadata": {},
     "output_type": "execute_result"
    },
    {
     "data": {
      "image/png": "[encoded data removed]",
      "text/plain": [
       "<Figure size 3000x1500 with 1 Axes>"
      ]
     },
     "metadata": {
      "needs_background": "light"
     },
     "output_type": "display_data"
    }
   ],
   "source": [
    "ss = sub_data.cumsum().divide(sub_data.cumsum().sum(axis=1), axis=0)\n",
    "\n",
    "ss = ss.reset_index(level=1, drop=\"count\")\n",
    "ss.index = ss.index // 4\n",
    "\n",
    "fig = plt.figure(figsize=(10, 5), dpi=300)\n",
    "ax = fig.gca()\n",
    "ss.iloc[:4 * 6].plot(ax=ax)\n",
    "\n",
    "ax.set_title(\"Share of votes (cumulative)\")"
   ]
  },
  {
   "cell_type": "code",
   "execution_count": 158,
   "metadata": {},
   "outputs": [],
   "source": [
    "from scipy.stats import geom"
   ]
  },
  {
   "cell_type": "code",
   "execution_count": 169,
   "metadata": {},
   "outputs": [
    {
     "data": {
      "text/plain": [
       "202205092032    53.50\n",
       "202205092047    57.77\n",
       "202205092102    61.05\n",
       "202205092117    63.77\n",
       "202205092132    66.09\n",
       "202205092147    68.27\n",
       "202205092202    70.27\n",
       "202205092217    72.09\n",
       "202205092232    73.91\n",
       "202205092247    75.64\n",
       "202205092302    77.32\n",
       "202205092332    80.39\n",
       "dtype: float64"
      ]
     },
     "execution_count": 169,
     "metadata": {},
     "output_type": "execute_result"
    }
   ],
   "source": [
    "# ER\n",
    "er_rates = pd.Series({\n",
    "    202205092032: 53.50,\n",
    "    202205092047: 57.77,\n",
    "    202205092102: 61.05,\n",
    "    202205092117: 63.77,\n",
    "    202205092132: 66.09,\n",
    "    202205092147: 68.27,\n",
    "    202205092202: 70.27,\n",
    "    202205092217: 72.09,\n",
    "    202205092232: 73.91,\n",
    "    202205092247: 75.64,\n",
    "    202205092302: 77.32,\n",
    "    202205092332: 80.39,\n",
    "})\n",
    "\n",
    "er_rates"
   ]
  },
  {
   "cell_type": "code",
   "execution_count": 194,
   "metadata": {},
   "outputs": [
    {
     "data": {
      "text/plain": [
       "202205092032    57664.0\n",
       "202205092047    62267.0\n",
       "202205092102    65802.0\n",
       "202205092117    68734.0\n",
       "202205092132    71235.0\n",
       "202205092147    73584.0\n",
       "202205092202    75740.0\n",
       "202205092217    77702.0\n",
       "202205092232    79663.0\n",
       "202205092247    81528.0\n",
       "202205092302    83339.0\n",
       "202205092332    86648.0\n",
       "dtype: float64"
      ]
     },
     "execution_count": 194,
     "metadata": {},
     "output_type": "execute_result"
    }
   ],
   "source": [
    "NUM_VB = 107785\n",
    "er_counts = (er_rates * NUM_VB // 100)\n",
    "er_counts"
   ]
  },
  {
   "cell_type": "code",
   "execution_count": 171,
   "metadata": {},
   "outputs": [
    {
     "data": {
      "text/plain": [
       "202205092032       NaN\n",
       "202205092047    4603.0\n",
       "202205092102    3535.0\n",
       "202205092117    2932.0\n",
       "202205092132    2501.0\n",
       "202205092147    2349.0\n",
       "202205092202    2156.0\n",
       "202205092217    1962.0\n",
       "202205092232    1961.0\n",
       "202205092247    1865.0\n",
       "202205092302    1811.0\n",
       "202205092332    3309.0\n",
       "dtype: float64"
      ]
     },
     "execution_count": 171,
     "metadata": {},
     "output_type": "execute_result"
    }
   ],
   "source": [
    "er_counts.diff()"
   ]
  },
  {
   "cell_type": "code",
   "execution_count": 172,
   "metadata": {},
   "outputs": [
    {
     "data": {
      "text/plain": [
       "(2634.909090909091, 879.4192918677023)"
      ]
     },
     "execution_count": 172,
     "metadata": {},
     "output_type": "execute_result"
    }
   ],
   "source": [
    "x = er_counts.diff()\n",
    "mean = x.mean()\n",
    "var = x.std()\n",
    "likelihoods = {}\n",
    "mean, var"
   ]
  },
  {
   "cell_type": "code",
   "execution_count": 173,
   "metadata": {},
   "outputs": [
    {
     "data": {
      "text/plain": [
       "0.00037951973502622135"
      ]
     },
     "execution_count": 173,
     "metadata": {},
     "output_type": "execute_result"
    }
   ],
   "source": [
    "p = 1 / mean\n",
    "p"
   ]
  },
  {
   "cell_type": "code",
   "execution_count": 174,
   "metadata": {},
   "outputs": [],
   "source": [
    "likelihoods['geometric'] = x.map(lambda val: geom.pmf(val, p)).prod()"
   ]
  },
  {
   "cell_type": "code",
   "execution_count": 175,
   "metadata": {},
   "outputs": [
    {
     "name": "stdout",
     "output_type": "stream",
     "text": [
      "Best fit: geometric\n",
      "Likelihood: 3.937724679004597e-43\n"
     ]
    }
   ],
   "source": [
    "best_fit = max(likelihoods, key=lambda x: likelihoods[x])\n",
    "print(\"Best fit:\", best_fit)\n",
    "print(\"Likelihood:\", likelihoods[best_fit])"
   ]
  },
  {
   "cell_type": "code",
   "execution_count": 176,
   "metadata": {},
   "outputs": [
    {
     "data": {
      "text/plain": [
       "<AxesSubplot:>"
      ]
     },
     "execution_count": 176,
     "metadata": {},
     "output_type": "execute_result"
    },
    {
     "data": {
      "image/png": "[encoded data removed]",
      "text/plain": [
       "<Figure size 432x288 with 1 Axes>"
      ]
     },
     "metadata": {
      "needs_background": "light"
     },
     "output_type": "display_data"
    }
   ],
   "source": [
    "er_counts.diff().plot()"
   ]
  },
  {
   "cell_type": "code",
   "execution_count": 188,
   "metadata": {},
   "outputs": [
    {
     "data": {
      "text/plain": [
       "1     4603.0\n",
       "2     3535.0\n",
       "3     2932.0\n",
       "4     2501.0\n",
       "5     2349.0\n",
       "6     2156.0\n",
       "7     1962.0\n",
       "8     1961.0\n",
       "9     1865.0\n",
       "10    1811.0\n",
       "dtype: float64"
      ]
     },
     "execution_count": 188,
     "metadata": {},
     "output_type": "execute_result"
    }
   ],
   "source": [
    "ee = er_counts.diff()[1:-1]\n",
    "ee.index = list(range(1, len(ee) + 1))\n",
    "ee"
   ]
  },
  {
   "cell_type": "code",
   "execution_count": 189,
   "metadata": {},
   "outputs": [
    {
     "data": {
      "text/plain": [
       "<AxesSubplot:>"
      ]
     },
     "execution_count": 189,
     "metadata": {},
     "output_type": "execute_result"
    },
    {
     "data": {
      "image/png": "[encoded data removed]",
      "text/plain": [
       "<Figure size 432x288 with 1 Axes>"
      ]
     },
     "metadata": {
      "needs_background": "light"
     },
     "output_type": "display_data"
    }
   ],
   "source": [
    "ee.plot()"
   ]
  },
  {
   "cell_type": "code",
   "execution_count": 193,
   "metadata": {},
   "outputs": [
    {
     "data": {
      "text/plain": [
       "[]"
      ]
     },
     "execution_count": 193,
     "metadata": {},
     "output_type": "execute_result"
    },
    {
     "data": {
      "image/png": "[encoded data removed]",
      "text/plain": [
       "<Figure size 432x288 with 1 Axes>"
      ]
     },
     "metadata": {
      "needs_background": "light"
     },
     "output_type": "display_data"
    }
   ],
   "source": [
    "ee.plot().semilogx()"
   ]
  },
  {
   "cell_type": "code",
   "execution_count": 203,
   "metadata": {},
   "outputs": [
    {
     "data": {
      "text/plain": [
       "1              inf\n",
       "2     1.174302e+04\n",
       "3     6.145188e+03\n",
       "4     4.154071e+03\n",
       "5     3.360659e+03\n",
       "6     2.770670e+03\n",
       "7     2.321624e+03\n",
       "8     2.171434e+03\n",
       "9     1.954430e+03\n",
       "10    1.811000e+03\n",
       "dtype: float64"
      ]
     },
     "execution_count": 203,
     "metadata": {},
     "output_type": "execute_result"
    }
   ],
   "source": [
    "ee / np.log10(ee.index)"
   ]
  },
  {
   "cell_type": "code",
   "execution_count": 204,
   "metadata": {},
   "outputs": [
    {
     "data": {
      "text/plain": [
       "370.3703703703703"
      ]
     },
     "execution_count": 204,
     "metadata": {},
     "output_type": "execute_result"
    }
   ],
   "source": [
    "0.0027"
   ]
  },
  {
   "cell_type": "code",
   "execution_count": 243,
   "metadata": {},
   "outputs": [
    {
     "data": {
      "text/plain": [
       "6     0.5350\n",
       "7     0.5777\n",
       "8     0.6105\n",
       "9     0.6377\n",
       "10    0.6609\n",
       "11    0.6827\n",
       "12    0.7027\n",
       "13    0.7209\n",
       "14    0.7391\n",
       "15    0.7564\n",
       "16    0.7732\n",
       "17    0.8039\n",
       "dtype: float64"
      ]
     },
     "execution_count": 243,
     "metadata": {},
     "output_type": "execute_result"
    }
   ],
   "source": [
    "er_rates_reindexed = er_rates.copy()\n",
    "er_rates_reindexed.index = list(range(6, 6 + len(er_rates)))\n",
    "er_rates_reindexed = er_rates_reindexed / 100\n",
    "er_rates_reindexed"
   ]
  },
  {
   "cell_type": "code",
   "execution_count": 248,
   "metadata": {},
   "outputs": [
    {
     "data": {
      "text/plain": [
       "<AxesSubplot:>"
      ]
     },
     "execution_count": 248,
     "metadata": {},
     "output_type": "execute_result"
    },
    {
     "data": {
      "image/png": "[encoded data removed]",
      "text/plain": [
       "<Figure size 432x288 with 1 Axes>"
      ]
     },
     "metadata": {
      "needs_background": "light"
     },
     "output_type": "display_data"
    }
   ],
   "source": [
    "import matplotlib.pyplot as plt\n",
    "fig, ax = plt.subplots(1, 1)\n",
    "p = 0.12\n",
    "xi = list(range(1, (6 * 4) + 1))\n",
    "\n",
    "ax.plot(xi, geom.cdf(xi, p), 'bo', ms=8, label='geom pmf')\n",
    "ax.vlines(xi, 0, geom.cdf(xi, p), colors='b', lw=5, alpha=0.5)\n",
    "er_rates_reindexed.plot(ax=ax)"
   ]
  },
  {
   "cell_type": "code",
   "execution_count": 226,
   "metadata": {},
   "outputs": [
    {
     "data": {
      "text/plain": [
       "<scipy.stats._distn_infrastructure.rv_frozen at 0x2a7b5bc40>"
      ]
     },
     "execution_count": 226,
     "metadata": {},
     "output_type": "execute_result"
    }
   ],
   "source": [
    "rvf = geom(p)\n",
    "rvf"
   ]
  },
  {
   "cell_type": "code",
   "execution_count": 230,
   "metadata": {},
   "outputs": [
    {
     "ename": "ValueError",
     "evalue": "x and y must have same first dimension, but have shapes (12,) and (96,)",
     "output_type": "error",
     "traceback": [
      "\u001b[0;31m---------------------------------------------------------------------------\u001b[0m",
      "\u001b[0;31mValueError\u001b[0m                                Traceback (most recent call last)",
      "\u001b[1;32m/Users/avsolatorio/PERSONAL/philippine-elections-2022/ppc-transmission-simulation.ipynb Cell 34'\u001b[0m in \u001b[0;36m<cell line: 3>\u001b[0;34m()\u001b[0m\n\u001b[1;32m      <a href='vscode-notebook-cell:/Users/avsolatorio/PERSONAL/philippine-elections-2022/ppc-transmission-simulation.ipynb#ch0000044?line=0'>1</a>\u001b[0m xi \u001b[39m=\u001b[39m \u001b[39mlist\u001b[39m(\u001b[39mrange\u001b[39m(\u001b[39m1\u001b[39m, \u001b[39m24\u001b[39m \u001b[39m*\u001b[39m \u001b[39m4\u001b[39m \u001b[39m+\u001b[39m \u001b[39m1\u001b[39m))\n\u001b[0;32m----> <a href='vscode-notebook-cell:/Users/avsolatorio/PERSONAL/philippine-elections-2022/ppc-transmission-simulation.ipynb#ch0000044?line=2'>3</a>\u001b[0m ax\u001b[39m.\u001b[39;49mplot(x, geom\u001b[39m.\u001b[39;49mpmf(xi, p), \u001b[39m'\u001b[39;49m\u001b[39mbo\u001b[39;49m\u001b[39m'\u001b[39;49m, ms\u001b[39m=\u001b[39;49m\u001b[39m8\u001b[39;49m, label\u001b[39m=\u001b[39;49m\u001b[39m'\u001b[39;49m\u001b[39mgeom pmf\u001b[39;49m\u001b[39m'\u001b[39;49m)\n\u001b[1;32m      <a href='vscode-notebook-cell:/Users/avsolatorio/PERSONAL/philippine-elections-2022/ppc-transmission-simulation.ipynb#ch0000044?line=3'>4</a>\u001b[0m ax\u001b[39m.\u001b[39mvlines(x, \u001b[39m0\u001b[39m, geom\u001b[39m.\u001b[39mpmf(xi, p), colors\u001b[39m=\u001b[39m\u001b[39m'\u001b[39m\u001b[39mb\u001b[39m\u001b[39m'\u001b[39m, lw\u001b[39m=\u001b[39m\u001b[39m5\u001b[39m, alpha\u001b[39m=\u001b[39m\u001b[39m0.5\u001b[39m)\n",
      "File \u001b[0;32m~/.local/share/virtualenvs/philippine-elections-2022-SgoWoY8p/lib/python3.8/site-packages/matplotlib/axes/_axes.py:1632\u001b[0m, in \u001b[0;36mAxes.plot\u001b[0;34m(self, scalex, scaley, data, *args, **kwargs)\u001b[0m\n\u001b[1;32m   <a href='file:///Users/avsolatorio/.local/share/virtualenvs/philippine-elections-2022-SgoWoY8p/lib/python3.8/site-packages/matplotlib/axes/_axes.py?line=1389'>1390</a>\u001b[0m \u001b[39m\"\"\"\u001b[39;00m\n\u001b[1;32m   <a href='file:///Users/avsolatorio/.local/share/virtualenvs/philippine-elections-2022-SgoWoY8p/lib/python3.8/site-packages/matplotlib/axes/_axes.py?line=1390'>1391</a>\u001b[0m \u001b[39mPlot y versus x as lines and/or markers.\u001b[39;00m\n\u001b[1;32m   <a href='file:///Users/avsolatorio/.local/share/virtualenvs/philippine-elections-2022-SgoWoY8p/lib/python3.8/site-packages/matplotlib/axes/_axes.py?line=1391'>1392</a>\u001b[0m \n\u001b[0;32m   (...)\u001b[0m\n\u001b[1;32m   <a href='file:///Users/avsolatorio/.local/share/virtualenvs/philippine-elections-2022-SgoWoY8p/lib/python3.8/site-packages/matplotlib/axes/_axes.py?line=1628'>1629</a>\u001b[0m \u001b[39m(``'green'``) or hex strings (``'#008000'``).\u001b[39;00m\n\u001b[1;32m   <a href='file:///Users/avsolatorio/.local/share/virtualenvs/philippine-elections-2022-SgoWoY8p/lib/python3.8/site-packages/matplotlib/axes/_axes.py?line=1629'>1630</a>\u001b[0m \u001b[39m\"\"\"\u001b[39;00m\n\u001b[1;32m   <a href='file:///Users/avsolatorio/.local/share/virtualenvs/philippine-elections-2022-SgoWoY8p/lib/python3.8/site-packages/matplotlib/axes/_axes.py?line=1630'>1631</a>\u001b[0m kwargs \u001b[39m=\u001b[39m cbook\u001b[39m.\u001b[39mnormalize_kwargs(kwargs, mlines\u001b[39m.\u001b[39mLine2D)\n\u001b[0;32m-> <a href='file:///Users/avsolatorio/.local/share/virtualenvs/philippine-elections-2022-SgoWoY8p/lib/python3.8/site-packages/matplotlib/axes/_axes.py?line=1631'>1632</a>\u001b[0m lines \u001b[39m=\u001b[39m [\u001b[39m*\u001b[39m\u001b[39mself\u001b[39m\u001b[39m.\u001b[39m_get_lines(\u001b[39m*\u001b[39margs, data\u001b[39m=\u001b[39mdata, \u001b[39m*\u001b[39m\u001b[39m*\u001b[39mkwargs)]\n\u001b[1;32m   <a href='file:///Users/avsolatorio/.local/share/virtualenvs/philippine-elections-2022-SgoWoY8p/lib/python3.8/site-packages/matplotlib/axes/_axes.py?line=1632'>1633</a>\u001b[0m \u001b[39mfor\u001b[39;00m line \u001b[39min\u001b[39;00m lines:\n\u001b[1;32m   <a href='file:///Users/avsolatorio/.local/share/virtualenvs/philippine-elections-2022-SgoWoY8p/lib/python3.8/site-packages/matplotlib/axes/_axes.py?line=1633'>1634</a>\u001b[0m     \u001b[39mself\u001b[39m\u001b[39m.\u001b[39madd_line(line)\n",
      "File \u001b[0;32m~/.local/share/virtualenvs/philippine-elections-2022-SgoWoY8p/lib/python3.8/site-packages/matplotlib/axes/_base.py:312\u001b[0m, in \u001b[0;36m_process_plot_var_args.__call__\u001b[0;34m(self, data, *args, **kwargs)\u001b[0m\n\u001b[1;32m    <a href='file:///Users/avsolatorio/.local/share/virtualenvs/philippine-elections-2022-SgoWoY8p/lib/python3.8/site-packages/matplotlib/axes/_base.py?line=309'>310</a>\u001b[0m     this \u001b[39m+\u001b[39m\u001b[39m=\u001b[39m args[\u001b[39m0\u001b[39m],\n\u001b[1;32m    <a href='file:///Users/avsolatorio/.local/share/virtualenvs/philippine-elections-2022-SgoWoY8p/lib/python3.8/site-packages/matplotlib/axes/_base.py?line=310'>311</a>\u001b[0m     args \u001b[39m=\u001b[39m args[\u001b[39m1\u001b[39m:]\n\u001b[0;32m--> <a href='file:///Users/avsolatorio/.local/share/virtualenvs/philippine-elections-2022-SgoWoY8p/lib/python3.8/site-packages/matplotlib/axes/_base.py?line=311'>312</a>\u001b[0m \u001b[39myield from\u001b[39;00m \u001b[39mself\u001b[39;49m\u001b[39m.\u001b[39;49m_plot_args(this, kwargs)\n",
      "File \u001b[0;32m~/.local/share/virtualenvs/philippine-elections-2022-SgoWoY8p/lib/python3.8/site-packages/matplotlib/axes/_base.py:498\u001b[0m, in \u001b[0;36m_process_plot_var_args._plot_args\u001b[0;34m(self, tup, kwargs, return_kwargs)\u001b[0m\n\u001b[1;32m    <a href='file:///Users/avsolatorio/.local/share/virtualenvs/philippine-elections-2022-SgoWoY8p/lib/python3.8/site-packages/matplotlib/axes/_base.py?line=494'>495</a>\u001b[0m     \u001b[39mself\u001b[39m\u001b[39m.\u001b[39maxes\u001b[39m.\u001b[39myaxis\u001b[39m.\u001b[39mupdate_units(y)\n\u001b[1;32m    <a href='file:///Users/avsolatorio/.local/share/virtualenvs/philippine-elections-2022-SgoWoY8p/lib/python3.8/site-packages/matplotlib/axes/_base.py?line=496'>497</a>\u001b[0m \u001b[39mif\u001b[39;00m x\u001b[39m.\u001b[39mshape[\u001b[39m0\u001b[39m] \u001b[39m!=\u001b[39m y\u001b[39m.\u001b[39mshape[\u001b[39m0\u001b[39m]:\n\u001b[0;32m--> <a href='file:///Users/avsolatorio/.local/share/virtualenvs/philippine-elections-2022-SgoWoY8p/lib/python3.8/site-packages/matplotlib/axes/_base.py?line=497'>498</a>\u001b[0m     \u001b[39mraise\u001b[39;00m \u001b[39mValueError\u001b[39;00m(\u001b[39mf\u001b[39m\u001b[39m\"\u001b[39m\u001b[39mx and y must have same first dimension, but \u001b[39m\u001b[39m\"\u001b[39m\n\u001b[1;32m    <a href='file:///Users/avsolatorio/.local/share/virtualenvs/philippine-elections-2022-SgoWoY8p/lib/python3.8/site-packages/matplotlib/axes/_base.py?line=498'>499</a>\u001b[0m                      \u001b[39mf\u001b[39m\u001b[39m\"\u001b[39m\u001b[39mhave shapes \u001b[39m\u001b[39m{\u001b[39;00mx\u001b[39m.\u001b[39mshape\u001b[39m}\u001b[39;00m\u001b[39m and \u001b[39m\u001b[39m{\u001b[39;00my\u001b[39m.\u001b[39mshape\u001b[39m}\u001b[39;00m\u001b[39m\"\u001b[39m)\n\u001b[1;32m    <a href='file:///Users/avsolatorio/.local/share/virtualenvs/philippine-elections-2022-SgoWoY8p/lib/python3.8/site-packages/matplotlib/axes/_base.py?line=499'>500</a>\u001b[0m \u001b[39mif\u001b[39;00m x\u001b[39m.\u001b[39mndim \u001b[39m>\u001b[39m \u001b[39m2\u001b[39m \u001b[39mor\u001b[39;00m y\u001b[39m.\u001b[39mndim \u001b[39m>\u001b[39m \u001b[39m2\u001b[39m:\n\u001b[1;32m    <a href='file:///Users/avsolatorio/.local/share/virtualenvs/philippine-elections-2022-SgoWoY8p/lib/python3.8/site-packages/matplotlib/axes/_base.py?line=500'>501</a>\u001b[0m     \u001b[39mraise\u001b[39;00m \u001b[39mValueError\u001b[39;00m(\u001b[39mf\u001b[39m\u001b[39m\"\u001b[39m\u001b[39mx and y can be no greater than 2D, but have \u001b[39m\u001b[39m\"\u001b[39m\n\u001b[1;32m    <a href='file:///Users/avsolatorio/.local/share/virtualenvs/philippine-elections-2022-SgoWoY8p/lib/python3.8/site-packages/matplotlib/axes/_base.py?line=501'>502</a>\u001b[0m                      \u001b[39mf\u001b[39m\u001b[39m\"\u001b[39m\u001b[39mshapes \u001b[39m\u001b[39m{\u001b[39;00mx\u001b[39m.\u001b[39mshape\u001b[39m}\u001b[39;00m\u001b[39m and \u001b[39m\u001b[39m{\u001b[39;00my\u001b[39m.\u001b[39mshape\u001b[39m}\u001b[39;00m\u001b[39m\"\u001b[39m)\n",
      "\u001b[0;31mValueError\u001b[0m: x and y must have same first dimension, but have shapes (12,) and (96,)"
     ]
    }
   ],
   "source": []
  },
  {
   "cell_type": "code",
   "execution_count": null,
   "metadata": {},
   "outputs": [],
   "source": []
  }
 ],
 "metadata": {
  "interpreter": {
   "hash": "c3552bde5766b12880926f9474b1e85de7a5071ab0583e9e44b9229cd3dd9357"
  },
  "kernelspec": {
   "display_name": "Python 3.8.11 ('philippine-elections-2022-SgoWoY8p')",
   "language": "python",
   "name": "python3"
  },
  "language_info": {
   "codemirror_mode": {
    "name": "ipython",
    "version": 3
   },
   "file_extension": ".py",
   "mimetype": "text/x-python",
   "name": "python",
   "nbconvert_exporter": "python",
   "pygments_lexer": "ipython3",
   "version": "3.8.11"
  },
  "orig_nbformat": 4
 },
 "nbformat": 4,
 "nbformat_minor": 2
}
